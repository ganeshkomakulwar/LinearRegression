{
 "cells": [
  {
   "cell_type": "code",
   "execution_count": 2,
   "id": "a3d9b76d",
   "metadata": {},
   "outputs": [],
   "source": [
    "import numpy as np\n",
    "import pandas as pd\n",
    "import matplotlib.pyplot as plt\n",
    "import matplotlib.axes as ax\n",
    "data = pd.read_csv(\"Linear Regression - Sheet1.csv\")"
   ]
  },
  {
   "cell_type": "code",
   "execution_count": 3,
   "id": "120da0dd",
   "metadata": {},
   "outputs": [
    {
     "name": "stdout",
     "output_type": "stream",
     "text": [
      "    X         Y\n",
      "0   1  3.888889\n",
      "1   2  4.555556\n",
      "2   3  5.222222\n",
      "3   4  5.888889\n",
      "4   5  6.555556\n",
      "5   6  7.222222\n",
      "6   7  7.888889\n",
      "7   8  8.555556\n",
      "8   9  9.222222\n",
      "9  10  9.888889\n"
     ]
    }
   ],
   "source": [
    "print(data.head(10))\n"
   ]
  },
  {
   "cell_type": "code",
   "execution_count": 4,
   "id": "8d7f2812",
   "metadata": {},
   "outputs": [
    {
     "name": "stdout",
     "output_type": "stream",
     "text": [
      "<class 'pandas.core.frame.DataFrame'>\n",
      "RangeIndex: 300 entries, 0 to 299\n",
      "Data columns (total 2 columns):\n",
      " #   Column  Non-Null Count  Dtype  \n",
      "---  ------  --------------  -----  \n",
      " 0   X       300 non-null    int64  \n",
      " 1   Y       300 non-null    float64\n",
      "dtypes: float64(1), int64(1)\n",
      "memory usage: 4.8 KB\n",
      "None\n"
     ]
    }
   ],
   "source": [
    "print(data.info())"
   ]
  },
  {
   "cell_type": "code",
   "execution_count": 6,
   "id": "88078a68",
   "metadata": {},
   "outputs": [
    {
     "name": "stdout",
     "output_type": "stream",
     "text": [
      "X    0\n",
      "Y    0\n",
      "dtype: int64\n"
     ]
    }
   ],
   "source": [
    "print(data.isnull().sum())"
   ]
  },
  {
   "cell_type": "code",
   "execution_count": 7,
   "id": "508585a1",
   "metadata": {},
   "outputs": [
    {
     "name": "stdout",
     "output_type": "stream",
     "text": [
      "shape of the data: (300, 2)\n"
     ]
    }
   ],
   "source": [
    "print(\"shape of the data:\",data.shape)"
   ]
  },
  {
   "cell_type": "markdown",
   "id": "cbb03779",
   "metadata": {},
   "source": [
    "# splitting data"
   ]
  },
  {
   "cell_type": "markdown",
   "id": "b55418d0",
   "metadata": {},
   "source": [
    "### Training input and output data"
   ]
  },
  {
   "cell_type": "code",
   "execution_count": 22,
   "id": "d1765517",
   "metadata": {},
   "outputs": [],
   "source": [
    "train_input = np.array(data.X[0:150]).reshape(150,1)\n",
    "train_output = np.array(data.Y[0:150]).reshape(150,1)"
   ]
  },
  {
   "cell_type": "markdown",
   "id": "cd68aa7b",
   "metadata": {},
   "source": [
    "### Validation data input and output"
   ]
  },
  {
   "cell_type": "code",
   "execution_count": 25,
   "id": "3fe94cee",
   "metadata": {},
   "outputs": [],
   "source": [
    "test_input = np.array(data.X[150:300]).reshape(150,1)\n",
    "test_output = np.array(data.Y[150:300]).reshape(150,1)"
   ]
  },
  {
   "cell_type": "code",
   "execution_count": 26,
   "id": "72161aa5",
   "metadata": {},
   "outputs": [
    {
     "name": "stdout",
     "output_type": "stream",
     "text": [
      "training input data shape = (150, 1)\n",
      "training output data shape = (150, 1)\n",
      "testing input data shape = (150, 1)\n",
      "testing output data shape = (150, 1)\n"
     ]
    }
   ],
   "source": [
    "print(f\"training input data shape = {train_input.shape}\")\n",
    "print(f\"training output data shape = {train_output.shape}\")\n",
    "print(f\"testing input data shape = {test_input.shape}\")\n",
    "print(f\"testing output data shape = {test_output.shape}\")"
   ]
  },
  {
   "cell_type": "markdown",
   "id": "ddfc3fd5",
   "metadata": {},
   "source": [
    "<Font color = \"green\">LinearRegression</font>"
   ]
  },
  {
   "cell_type": "code",
   "execution_count": 32,
   "id": "99acf1ce",
   "metadata": {},
   "outputs": [],
   "source": [
    "from sklearn.linear_model import LinearRegression"
   ]
  },
  {
   "cell_type": "code",
   "execution_count": 33,
   "id": "d0ec4b8f",
   "metadata": {},
   "outputs": [],
   "source": [
    "lr_model = LinearRegression()"
   ]
  },
  {
   "cell_type": "code",
   "execution_count": 37,
   "id": "b40a37bd",
   "metadata": {},
   "outputs": [
    {
     "name": "stdout",
     "output_type": "stream",
     "text": [
      "LinearRegression()\n"
     ]
    }
   ],
   "source": [
    "print(lr_model.fit(train_input,train_output))"
   ]
  },
  {
   "cell_type": "code",
   "execution_count": 38,
   "id": "d63a8179",
   "metadata": {},
   "outputs": [
    {
     "name": "stdout",
     "output_type": "stream",
     "text": [
      "[[0.66666667]]\n"
     ]
    }
   ],
   "source": [
    "print(lr_model.coef_)    #slope value"
   ]
  },
  {
   "cell_type": "code",
   "execution_count": 39,
   "id": "6b1c9ee6",
   "metadata": {},
   "outputs": [
    {
     "name": "stdout",
     "output_type": "stream",
     "text": [
      "[3.22222222]\n"
     ]
    }
   ],
   "source": [
    "print(lr_model.intercept_)  # c value"
   ]
  },
  {
   "cell_type": "markdown",
   "id": "d8971a40",
   "metadata": {},
   "source": [
    "## Predictions"
   ]
  },
  {
   "cell_type": "code",
   "execution_count": 43,
   "id": "fc59179e",
   "metadata": {},
   "outputs": [
    {
     "data": {
      "image/png": "[encoded data removed]",
      "text/plain": [
       "<Figure size 432x288 with 1 Axes>"
      ]
     },
     "metadata": {
      "needs_background": "light"
     },
     "output_type": "display_data"
    }
   ],
   "source": [
    "test_prediction = lr_model.predict(test_input)\n",
    "plt.plot(test_input,test_prediction,\"*\",color=\"green\")\n",
    "plt.plot(test_input,test_output,\"+\",color=\"red\")\n",
    "plt.title(\"performance testing\")\n",
    "plt.xlabel(\"input\")\n",
    "plt.ylabel(\"prediction\")\n",
    "plt.show()"
   ]
  },
  {
   "cell_type": "markdown",
   "id": "2835010c",
   "metadata": {},
   "source": [
    "### mean squared error"
   ]
  },
  {
   "cell_type": "code",
   "execution_count": 46,
   "id": "da8d1451",
   "metadata": {},
   "outputs": [],
   "source": [
    "from sklearn.metrics import mean_squared_error"
   ]
  },
  {
   "cell_type": "code",
   "execution_count": 47,
   "id": "4c46f4c1",
   "metadata": {},
   "outputs": [
    {
     "name": "stdout",
     "output_type": "stream",
     "text": [
      "538.6814815058057\n"
     ]
    }
   ],
   "source": [
    "cost = mean_squared_error(test_output,test_prediction)\n",
    "print(cost)"
   ]
  },
  {
   "cell_type": "code",
   "execution_count": null,
   "id": "0aae146f",
   "metadata": {},
   "outputs": [],
   "source": []
  }
 ],
 "metadata": {
  "kernelspec": {
   "display_name": "Python 3 (ipykernel)",
   "language": "python",
   "name": "python3"
  },
  "language_info": {
   "codemirror_mode": {
    "name": "ipython",
    "version": 3
   },
   "file_extension": ".py",
   "mimetype": "text/x-python",
   "name": "python",
   "nbconvert_exporter": "python",
   "pygments_lexer": "ipython3",
   "version": "3.9.12"
  }
 },
 "nbformat": 4,
 "nbformat_minor": 5
}
